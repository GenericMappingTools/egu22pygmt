{
 "cells": [
  {
   "cell_type": "markdown",
   "metadata": {},
   "source": [
    "# **LiDAR Point clouds to 3D surfaces** ✨➡️🏔️\n",
    "\n",
    "In this final tutorial, let's use PyGMT to\n",
    "perform a more advanced geoprocessing workflow 😎\n",
    "\n",
    "Specifically, we'll learn to filter and interpolate\n",
    "a LiDAR point cloud onto a regular grid surface 🏁\n",
    "\n",
    "At the end, we'll also make a 🚠 3D perspective plot for\n",
    "the Digital Surface Model (DSM) produced through this exercise!"
   ]
  },
  {
   "cell_type": "markdown",
   "metadata": {},
   "source": [
    "## 🎉 Getting started\n",
    "\n",
    "Begin by importing some Python 🐍 libraries.\n",
    "\n",
    "Besides [pygmt](https://www.pygmt.org), we'll also be using:\n",
    "\n",
    "- [laspy](https://github.com/laspy/laspy) to read in LAZ LiDAR files 🌃\n",
    "- [pandas](https://pandas.pydata.org) for managing tabular data 🀤\n",
    "- [rioxarray](https://corteva.github.io/rioxarray) to export our DSM to a GeoTIFF 🗺️"
   ]
  },
  {
   "cell_type": "code",
   "execution_count": null,
   "metadata": {},
   "outputs": [],
   "source": [
    "import laspy\n",
    "import pandas as pd\n",
    "import pygmt\n",
    "import rioxarray\n",
    "import xarray as xr"
   ]
  },
  {
   "cell_type": "markdown",
   "metadata": {},
   "source": [
    "# 0️⃣ The LiDAR data\n",
    "\n",
    "Let's visit [Wellington](https://en.wikipedia.org/wiki/Wellington)\n",
    "which is the capital city of New Zealand 🇳🇿.\n",
    "\n",
    "They recently had a LiDAR survey done between March 2019 to March 2020 🛩️,\n",
    "with the point cloud and derived products published under an open\n",
    "[CC BY 4.0](https://creativecommons.org/licenses/by/4.0/) license.\n",
    "\n",
    "- OpenTopography link: https://doi.org/10.5069/G9K935QX\n",
    "- Bulk download location: https://opentopography.s3.sdsc.edu/minio/pc-bulk/NZ19_Wellington\n",
    "- Official 1m DSM from LINZ: https://data.linz.govt.nz/layer/105024-wellington-city-lidar-1m-dsm-2019-2020\n",
    "\n",
    "🔖 References:\n",
    "- https://medium.com/on-location/from-points-to-pixels-creating-digital-elevation-models-from-open-topography-point-clouds-abe616d06860\n",
    "- https://github.com/GenericMappingTools/foss4g2019oceania/blob/v1/3_lidar_to_surface.ipynb\n",
    "- https://github.com/weiji14/30DayMapChallenge2021/blob/v0.3.1/day17_land.py"
   ]
  },
  {
   "cell_type": "markdown",
   "metadata": {},
   "source": [
    "First though, we'll need to download a sample file to play with 🎮\n",
    "\n",
    "Luckily for us,\n",
    "there is a function called [pygmt.which](https://www.pygmt.org/v0.6.1/api/generated/pygmt.which)\n",
    "that has to ability to do just that!\n",
    "\n",
    "The `download=True` option can be used to download ⬇️ a remote file to our local working directory."
   ]
  },
  {
   "cell_type": "code",
   "execution_count": null,
   "metadata": {},
   "outputs": [],
   "source": [
    "# Download LiDAR LAZ file from a URL\n",
    "lazfile: str = pygmt.which(\n",
    "    fname=\"https://opentopography.s3.sdsc.edu/pc-bulk/NZ19_Wellington/CL2_BQ31_2019_1000_2138.laz\",\n",
    "    download=True,\n",
    ")\n",
    "print(lazfile)"
   ]
  },
  {
   "cell_type": "markdown",
   "metadata": {},
   "source": [
    "## Loading a point cloud 🌧️"
   ]
  },
  {
   "cell_type": "markdown",
   "metadata": {},
   "source": [
    "Now we can use [laspy](https://laspy.readthedocs.io) to read in our example LAZ file\n",
    "into a [pandas.DataFrame](https://pandas.pydata.org/pandas-docs/version/1.4/reference/api/pandas.DataFrame.html).\n",
    "\n",
    "The data will be kept in a variable called 'df' which stands for dataframe."
   ]
  },
  {
   "cell_type": "code",
   "execution_count": null,
   "metadata": {},
   "outputs": [],
   "source": [
    "# Load LAZ data into a pandas DataFrame\n",
    "lazdata = laspy.read(source=lazfile)\n",
    "df = pd.DataFrame(\n",
    "    data={\n",
    "        \"x\": lazdata.x.scaled_array(),\n",
    "        \"y\": lazdata.y.scaled_array(),\n",
    "        \"z\": lazdata.z.scaled_array(),\n",
    "        \"classification\": lazdata.classification,\n",
    "    }\n",
    ")"
   ]
  },
  {
   "cell_type": "markdown",
   "metadata": {},
   "source": [
    "## Quick data preview ⚡"
   ]
  },
  {
   "cell_type": "markdown",
   "metadata": {},
   "source": [
    "Let's get the bounding box 📦 region of our study area using\n",
    "[pygmt.info](https://www.pygmt.org/v0.6.1/api/generated/pygmt.info.html)."
   ]
  },
  {
   "cell_type": "code",
   "execution_count": null,
   "metadata": {},
   "outputs": [],
   "source": [
    "# Get bounding box region\n",
    "region: list = pygmt.info(data=df[[\"x\", \"y\"]], spacing=1)  # West, East, South, North\n",
    "print(f\"Data points covers region: {region}\")"
   ]
  },
  {
   "cell_type": "markdown",
   "metadata": {},
   "source": [
    "Check how many 🗃️ data points (rows) are in the table\n",
    "and get some summary statistics printed out."
   ]
  },
  {
   "cell_type": "code",
   "execution_count": null,
   "metadata": {},
   "outputs": [],
   "source": [
    "# Print summary statistics\n",
    "print(f\"Total of {len(df)} data points\")\n",
    "df.describe()"
   ]
  },
  {
   "cell_type": "markdown",
   "metadata": {},
   "source": [
    "More than 7 million points, that's a lot! 🤯\n",
    "\n",
    "Let's try to take a quick look of our LiDAR elevation points on a map 🗺️\n",
    "\n",
    "PyGMT *can* plot these many points, but it might take a long time ⏳,\n",
    "so let's do a quick filter by taking every\n",
    "[n-th row](https://stackoverflow.com/questions/25055712/pandas-every-nth-rowhttps://stackoverflow.com/questions/25055712/pandas-every-nth-row)\n",
    "from our dataframe table."
   ]
  },
  {
   "cell_type": "code",
   "execution_count": null,
   "metadata": {},
   "outputs": [],
   "source": [
    "df_filtered: pd.DataFrame = df.iloc[::20]\n",
    "print(f\"Filtered down to {len(df_filtered)} data points\")"
   ]
  },
  {
   "cell_type": "markdown",
   "metadata": {},
   "source": [
    "Now we can visualize these quickly on a map with PyGMT 😀"
   ]
  },
  {
   "cell_type": "code",
   "execution_count": null,
   "metadata": {},
   "outputs": [],
   "source": [
    "# Plot XYZ points on a map\n",
    "fig = pygmt.Figure()\n",
    "fig.basemap(frame=True, region=region, projection=\"x1:5000\")\n",
    "pygmt.makecpt(cmap=\"bukavu\", series=[df.z.min(), df.z.max()])\n",
    "fig.plot(\n",
    "    x=df_filtered.x, y=df_filtered.y, color=df_filtered.z, style=\"c0.03c\", cmap=True\n",
    ")\n",
    "fig.colorbar(position=\"JMR\", frame=[\"af+lElevation\", \"y+lm\"])\n",
    "fig.show()"
   ]
  },
  {
   "cell_type": "markdown",
   "metadata": {},
   "source": [
    "It's hard to make out what the objects are,\n",
    "but hopefully you'll see what looks like a wharf with ⛵ boats on the top left corner.\n",
    "\n",
    "This is showing us a part of Oriental Bay in Wellington,\n",
    "with Mount Victoria ⛰️ towards the Southeast corner of the map."
   ]
  },
  {
   "cell_type": "markdown",
   "metadata": {},
   "source": [
    "# 1️⃣ Creating a Digital Surface Model (DSM)\n",
    "\n",
    "Let's now produce a digital surface model from our point cloud 🌧️\n",
    "\n",
    "We'll first do some proper spatial data cleaning 🧹 using both\n",
    "[pandas](https://pandas.pydata.org) and [pygmt](https://www.pygmt.org)."
   ]
  },
  {
   "cell_type": "markdown",
   "metadata": {},
   "source": [
    "First step is to remove the LiDAR points classified as high noise 🔊\n",
    "which is done by querying all the points that are not '18'.\n",
    "\n",
    "🔖 References:\n",
    "- Table 17 of [ASPRS LAS Specification](https://www.asprs.org/a/society/committees/standards/LAS_1_4_r13.pdf)"
   ]
  },
  {
   "cell_type": "code",
   "execution_count": null,
   "metadata": {},
   "outputs": [],
   "source": [
    "df: pd.DataFrame = df.query(expr=\"classification != 18\")"
   ]
  },
  {
   "cell_type": "markdown",
   "metadata": {},
   "source": [
    "## Get highest elevation points 🍫"
   ]
  },
  {
   "cell_type": "markdown",
   "metadata": {},
   "source": [
    "Next, we'll use the\n",
    "[blockmedian](https://www.pygmt.org/v0.6.1/api/generated/pygmt.blockmedian.html)\n",
    "function to trim 🪒 down the points spatially.\n",
    "\n",
    "By default, this function computes a single median elevation\n",
    "for every pixel on an equally spaced grid 🏁\n",
    "\n",
    "For a Digital **Surface** Elevation Model (DSM) though,\n",
    "we should pick the highest elevation 🔝 instead of the median.\n",
    "\n",
    "So we'll tell blockmedian to use the 99th\n",
    "[quantile](https://docs.generic-mapping-tools.org/latest/blockmedian.html#t) (T) instead,\n",
    "and set our output grid spacing to be exactly 1 metre (1+e) 📏\n",
    "\n",
    "Note that we'll only be taking the 🇽, 🇾, 🇿 (elevation) columns for this."
   ]
  },
  {
   "cell_type": "code",
   "execution_count": null,
   "metadata": {},
   "outputs": [],
   "source": [
    "# Preprocess LiDAR data using blockmedian\n",
    "df_trimmed: pd.DataFrame = pygmt.blockmedian(\n",
    "    data=df[[\"x\", \"y\", \"z\"]],\n",
    "    T=0.99,  # 99th quantile, i.e. the highest point\n",
    "    spacing=\"1+e\",\n",
    "    region=region,\n",
    ")\n",
    "df_trimmed"
   ]
  },
  {
   "cell_type": "markdown",
   "metadata": {},
   "source": [
    "## Turn points into a grid 🫓"
   ]
  },
  {
   "cell_type": "markdown",
   "metadata": {},
   "source": [
    "Lastly, we'll use [pygmt.surface](https://www.pygmt.org/v0.6.1/api/generated/pygmt.surface.html)\n",
    "to produce a grid from the 🇽, 🇾, 🇿 data points.\n",
    "\n",
    "Make sure to set our desired grid spacing to be exactly 📏 1 metre (1+e) again.\n",
    "\n",
    "Also, we'll set a tension factor (T) of 0.35 which is suitable for steep topography\n",
    "(since we have some 🏠 buildings with 'steep' vertical edges).\n",
    "\n",
    "🚨 Note that this might take some time to run."
   ]
  },
  {
   "cell_type": "code",
   "execution_count": null,
   "metadata": {},
   "outputs": [],
   "source": [
    "# Create a Digital Surface Elevation Model with\n",
    "# a spatial resolution of 1m.\n",
    "grid: xr.DataArray = pygmt.surface(\n",
    "    x=df_trimmed.x,\n",
    "    y=df_trimmed.y,\n",
    "    z=df_trimmed.z,\n",
    "    spacing=\"1+e\",\n",
    "    region=region,  # xmin, xmax, ymin, ymax\n",
    "    T=0.35,  # tension factor\n",
    ")"
   ]
  },
  {
   "cell_type": "markdown",
   "metadata": {},
   "source": [
    "Let's take a look 👀 at the grid output.\n",
    "\n",
    "The grid will be returned as an\n",
    "[xarray.DataArray](https://docs.xarray.dev/en/v2022.03.0/generated/xarray.DataArray.html),\n",
    "with each pixel's elevation (🇿 value in metres) stored at every 🇽 and 🇾 coordinate."
   ]
  },
  {
   "cell_type": "code",
   "execution_count": null,
   "metadata": {},
   "outputs": [],
   "source": [
    "grid"
   ]
  },
  {
   "cell_type": "markdown",
   "metadata": {},
   "source": [
    "# 2️⃣ Plotting a Digital Surface Model (DSM)"
   ]
  },
  {
   "cell_type": "markdown",
   "metadata": {},
   "source": [
    "## **Plot in 2D** 🏳️‍🌈\n",
    "\n",
    "Now we can plot our Digital Surface Model (DSM) grid 🏁\n",
    "\n",
    "This can be done by passing the\n",
    "[xarray.DataArray](https://docs.xarray.dev/en/v2022.03.0/generated/xarray.DataArray.html)\n",
    "grid into\n",
    "[pygmt.Figure.grdimage](https://www.pygmt.org/v0.6.1/api/generated/pygmt.Figure.grdimage)."
   ]
  },
  {
   "cell_type": "code",
   "execution_count": null,
   "metadata": {},
   "outputs": [],
   "source": [
    "fig2 = pygmt.Figure()\n",
    "fig2.basemap(\n",
    "    frame=True,\n",
    "    region=[1_749_760, 1_750_240, 5_426_880, 5_427_600],\n",
    "    projection=\"x1:5000\",\n",
    ")\n",
    "pygmt.makecpt(cmap=\"bukavu\", series=[-10, 200])\n",
    "fig2.grdimage(grid=grid)\n",
    "fig2.colorbar(position=\"JMR\", frame=[\"af+lElevation\", \"y+lm\"])\n",
    "fig2.show()"
   ]
  },
  {
   "cell_type": "markdown",
   "metadata": {},
   "source": [
    "## Plot 3D perspective view ⛰️\n",
    "\n",
    "Now comes the cool part 💯\n",
    "\n",
    "PyGMT has a [grdview](https://pygmt-git-foss4g2019oceania.gmt.now.sh/api/generated/pygmt.Figure.grdview.html#pygmt.Figure.grdview)\n",
    "function to make high quality 3D perspective plots of our elevation surface!\n",
    "\n",
    "Besides providing the elevation 'grid', there are a few basic things to configure:\n",
    "- cmap - name of 🌈 [colormap](https://docs.generic-mapping-tools.org/6.3/cookbook/cpts.html#id3) to use\n",
    "- surftype - we'll use 's' here which just creates a regular surface 🏄\n",
    "- perspective - set azimuth angle (e.g. 315 for NorthWest) and 📐 elevation (e.g 30 degrees) of the viewpoint\n",
    "- zscale - a vertical exaggeration 🔺 factor, we'll use 0.02 here"
   ]
  },
  {
   "cell_type": "code",
   "execution_count": null,
   "metadata": {},
   "outputs": [],
   "source": [
    "fig3 = pygmt.Figure()\n",
    "fig3.grdview(\n",
    "    grid=grid,\n",
    "    cmap=\"bukavu\",\n",
    "    surftype=\"s\",  # surface plot\n",
    "    perspective=[315, 30],  # azimuth bearing, and elevation angle\n",
    "    zscale=0.02,  # vertical exaggeration\n",
    ")\n",
    "fig3.show()"
   ]
  },
  {
   "cell_type": "markdown",
   "metadata": {},
   "source": [
    "There are also other things we can 🧰 configure such as:\n",
    "\n",
    "- Hillshading ⛱️ using `shading=True`\n",
    "- A proper 3D map frame 🖼️ with:\n",
    "  - automatic tick marks on x and y axis (e.g. `xaf+lLabel`)\n",
    "  - z-axis automatic tick marks (`zaf+lLabel`)\n",
    "  - plot title (`+tMy Title`)"
   ]
  },
  {
   "cell_type": "code",
   "execution_count": null,
   "metadata": {},
   "outputs": [],
   "source": [
    "fig3 = pygmt.Figure()\n",
    "fig3.grdview(\n",
    "    grid=grid,\n",
    "    cmap=\"bukavu\",\n",
    "    surftype=\"s\",  # surface plot\n",
    "    perspective=[315, 30],  # azimuth bearing, and elevation angle\n",
    "    zscale=0.02,  # vertical exaggeration\n",
    "    shading=True,  # hillshading\n",
    "    frame=[\n",
    "        'xaf+l\"Easting\"',\n",
    "        'yaf+l\"Northing\"',\n",
    "        'zaf+l\"Elevation (m)\"',\n",
    "        \"+tOriental Bay, Wellington\",\n",
    "    ],\n",
    ")\n",
    "fig3.show()"
   ]
  },
  {
   "cell_type": "markdown",
   "metadata": {},
   "source": [
    "Feel free to have a go at changing the azimuth and elevation angle to get a different view 🔭\n",
    "\n",
    "You can also try to tweak the vertical exaggeration factor 🗼\n",
    "and play around with the map frame!"
   ]
  },
  {
   "cell_type": "markdown",
   "metadata": {},
   "source": [
    "## Save figures and output DSM to GeoTIFF 💾\n",
    "\n",
    "Time to save your work!\n",
    "\n",
    "We'll save each of our figures into separate files first 🗃️"
   ]
  },
  {
   "cell_type": "code",
   "execution_count": null,
   "metadata": {},
   "outputs": [],
   "source": [
    "fig.savefig(fname=\"wellington_1d_lidar.png\")\n",
    "fig2.savefig(fname=\"wellington_2d_dsm_map.png\")\n",
    "fig3.savefig(fname=\"wellington_3d_dsm_view.png\")"
   ]
  },
  {
   "cell_type": "markdown",
   "metadata": {},
   "source": [
    "Also, it'll be good to have a proper GeoTIFF of the DSM we made.\n",
    "This can be done using\n",
    "[rioxarray's to_raster method](https://corteva.github.io/rioxarray/html/examples/convert_to_raster.html)."
   ]
  },
  {
   "cell_type": "code",
   "execution_count": null,
   "metadata": {},
   "outputs": [],
   "source": [
    "grid.rio.to_raster(raster_path=\"DSM_of_Wellington.tif\")"
   ]
  },
  {
   "cell_type": "markdown",
   "metadata": {},
   "source": [
    "The files should now appear on the file list on the left,\n",
    "and you can download them to your computer."
   ]
  },
  {
   "cell_type": "markdown",
   "metadata": {},
   "source": [
    "# 3️⃣ Bonus exercise - Create a 3D surface map of another area\n",
    "\n",
    "Here's a challenge to test your PyGMT skills 🤹\n",
    "\n",
    "You'll be processing a LiDAR point cloud of a different area 📍 from start to finish.\n",
    "\n",
    "Good luck! 🥳"
   ]
  },
  {
   "cell_type": "markdown",
   "metadata": {},
   "source": [
    "Feel free to find a dataset from an area you're interested in using\n",
    "[OpenTopography](https://portal.opentopography.org/datasets).\n",
    "\n",
    "To make it easier though, I've provided an example for Queenstown, New Zealand 🇳🇿\n",
    "\n",
    "- OpenTopography link: https://doi.org/10.5069/G9MP51G0\n",
    "- Bulk download location: https://opentopography.s3.sdsc.edu/minio/pc-bulk/NZ21_Otago\n",
    "- Official 1m DSM from LINZ: https://data.linz.govt.nz/layer/105905-otago-queenstown-lidar-index-tiles-2021\n",
    "\n",
    "These files covers the Central Queenstown area:\n",
    "  - https://opentopography.s3.sdsc.edu/pc-bulk/NZ21_Otago/CL2_CC11_2021_1000_0813.laz\n",
    "  - https://opentopography.s3.sdsc.edu/pc-bulk/NZ21_Otago/CL2_CC11_2021_1000_0814.laz\n",
    "  - https://opentopography.s3.sdsc.edu/pc-bulk/NZ21_Otago/CL2_CC11_2021_1000_0913.laz\n",
    "  - https://opentopography.s3.sdsc.edu/pc-bulk/NZ21_Otago/CL2_CC11_2021_1000_0914.laz"
   ]
  },
  {
   "cell_type": "markdown",
   "metadata": {},
   "source": [
    "## Download and load data"
   ]
  },
  {
   "cell_type": "code",
   "execution_count": null,
   "metadata": {},
   "outputs": [],
   "source": [
    "filenames: list = [\n",
    "    # \"\",\n",
    "]\n",
    "\n",
    "df = pd.DataFrame()  # Start an empty DataFrame\n",
    "for fname in filenames:\n",
    "    lazfile: str = pygmt.which(fname=fname, download=True)\n",
    "\n",
    "    lazdata = laspy.read(source=lazfile)\n",
    "    temp_df = pd.DataFrame(\n",
    "        data={\n",
    "            \"x\": lazdata.x.scaled_array(),\n",
    "            \"y\": lazdata.y.scaled_array(),\n",
    "            \"z\": lazdata.z.scaled_array(),\n",
    "            \"classification\": lazdata.classification,\n",
    "        }\n",
    "    )\n",
    "    # load each point cloud into the DataFrame\n",
    "    df: pd.DataFrame = df.append(temp_df, ignore_index=True)"
   ]
  },
  {
   "cell_type": "code",
   "execution_count": null,
   "metadata": {},
   "outputs": [],
   "source": [
    "df"
   ]
  },
  {
   "cell_type": "markdown",
   "metadata": {},
   "source": [
    "## Create a DSM"
   ]
  },
  {
   "cell_type": "code",
   "execution_count": null,
   "metadata": {},
   "outputs": [],
   "source": [
    "# Run blockmedian"
   ]
  },
  {
   "cell_type": "code",
   "execution_count": null,
   "metadata": {},
   "outputs": [],
   "source": [
    "# Run surface"
   ]
  },
  {
   "cell_type": "markdown",
   "metadata": {},
   "source": [
    "## Plot the DSM"
   ]
  },
  {
   "cell_type": "code",
   "execution_count": null,
   "metadata": {},
   "outputs": [],
   "source": [
    "# Run grdimage"
   ]
  },
  {
   "cell_type": "code",
   "execution_count": null,
   "metadata": {},
   "outputs": [],
   "source": [
    "# Run grdview"
   ]
  },
  {
   "cell_type": "markdown",
   "metadata": {},
   "source": [
    "That’s all 🎉!\n",
    "For more information on how to customize your map 🗺️,\n",
    "check out:\n",
    "\n",
    "- Tutorials at https://www.pygmt.org/v0.6.1/tutorials/index.html\n",
    "- Gallery examples at https://www.pygmt.org/v0.6.1/gallery/index.html\n",
    "\n",
    "If you have any questions 🙋,\n",
    "feel free to visit the PyGMT forum at\n",
    "https://forum.generic-mapping-tools.org/c/questions/pygmt-q-a/11.\n",
    "\n",
    "Submit any ✨ feature requests/bug reports to the GitHub repo at\n",
    "https://github.com/GenericMappingTools/pygmt\n",
    "\n",
    "Cheers!"
   ]
  }
 ],
 "metadata": {
  "jupytext": {
   "formats": "ipynb,py:hydrogen"
  },
  "kernelspec": {
   "display_name": "Python 3 (ipykernel)",
   "language": "python",
   "name": "python3"
  },
  "language_info": {
   "codemirror_mode": {
    "name": "ipython",
    "version": 3
   },
   "file_extension": ".py",
   "mimetype": "text/x-python",
   "name": "python",
   "nbconvert_exporter": "python",
   "pygments_lexer": "ipython3",
   "version": "3.9.12"
  }
 },
 "nbformat": 4,
 "nbformat_minor": 4
}
